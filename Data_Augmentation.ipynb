{
  "nbformat": 4,
  "nbformat_minor": 0,
  "metadata": {
    "colab": {
      "name": "Data_Augmentation.ipynb",
      "provenance": []
    },
    "kernelspec": {
      "name": "python3",
      "display_name": "Python 3"
    }
  },
  "cells": [
    {
      "cell_type": "code",
      "metadata": {
        "id": "RiA-DTn6Ig0H",
        "colab_type": "code",
        "colab": {
          "base_uri": "https://localhost:8080/",
          "height": 34
        },
        "outputId": "67c936c1-6f66-4b27-9b32-7118fc97e838"
      },
      "source": [
        "from google.colab import drive\n",
        "drive.mount('/content/drive')"
      ],
      "execution_count": 1,
      "outputs": [
        {
          "output_type": "stream",
          "text": [
            "Mounted at /content/drive\n"
          ],
          "name": "stdout"
        }
      ]
    },
    {
      "cell_type": "code",
      "metadata": {
        "id": "4Y2HJcsrFqzA",
        "colab_type": "code",
        "colab": {}
      },
      "source": [
        "import os\n",
        "import numpy as np\n",
        "import pandas as pd\n",
        "import seaborn as sns\n",
        "import matplotlib.pyplot as plt\n",
        "import matplotlib.image as mpimg\n",
        "import seaborn as sns\n",
        "from PIL import Image"
      ],
      "execution_count": null,
      "outputs": []
    },
    {
      "cell_type": "code",
      "metadata": {
        "id": "T1f1uIo9IcYX",
        "colab_type": "code",
        "colab": {}
      },
      "source": [
        "DIR_NAME = '/content/drive/My Drive/HackChennai/infected'\n",
        "imagePaths1=[]\n",
        "for dirname1, _, filenames in os.walk(DIR_NAME):\n",
        "    for filename in filenames:\n",
        "      imagePaths1.append(os.path.join(dirname1, filename))"
      ],
      "execution_count": null,
      "outputs": []
    },
    {
      "cell_type": "code",
      "metadata": {
        "id": "7PAPzZ2vIskw",
        "colab_type": "code",
        "colab": {}
      },
      "source": [
        "DIR_NAME1 = '/content/drive/My Drive/HackChennai/normal'\n",
        "imagePaths=[]\n",
        "for dirname, _, filenames in os.walk(DIR_NAME1):\n",
        "    for filename in filenames:\n",
        "      imagePaths.append(os.path.join(dirname, filename))"
      ],
      "execution_count": null,
      "outputs": []
    },
    {
      "cell_type": "code",
      "metadata": {
        "id": "fPjA68EXJnpJ",
        "colab_type": "code",
        "colab": {}
      },
      "source": [
        "datagen = ImageDataGenerator(\n",
        "            rotation_range=40,\n",
        "            width_shift_range=0.2,\n",
        "            height_shift_range=0.2,\n",
        "            shear_range=0.2,\n",
        "             zoom_range=0.2,horizontal_flip=True,fill_mode='nearest')\n",
        "for i in range(int(len(imagePaths))):    \n",
        "  img = load_img(imagePaths[i])  \n",
        "  x = img_to_array(img)  \n",
        "  x = x.reshape((1,) + x.shape)  \n",
        "  j = 0\n",
        "  for batch in datagen.flow(x, batch_size=1,save_to_dir='/content/drive/My Drive/HackChennai/normal1', save_prefix='normal', save_format='jpeg'):\n",
        "    j += 1\n",
        "    if j > 20: #20  here is the number of times a single image will get augmented can be changed as per requirement\n",
        "      break  #save_to_dir consists of a folder I created in the dataset normal1 all the augmentted images will be saved in this folder."
      ],
      "execution_count": null,
      "outputs": []
    },
    {
      "cell_type": "code",
      "metadata": {
        "id": "qfZDExYOJ1O2",
        "colab_type": "code",
        "colab": {}
      },
      "source": [
        "from google.colab import files\n",
        "from google.colab import auth\n",
        "from googleapiclient.http import MediaFileUpload\n",
        "from googleapiclient.discovery import build\n",
        "\n",
        "def save_file_to_drive(name, path):\n",
        "    file_metadata = {\n",
        "    'name': name,\n",
        "    'mimeType': 'application/octet-stream'\n",
        "    }\n",
        "\n",
        "    media = MediaFileUpload(path, \n",
        "                  mimetype='application/octet-stream',\n",
        "                  resumable=True)\n",
        "\n",
        "    created = drive_service.files().create(body=file_metadata, media_body=media, fields='id').execute()\n",
        "\n",
        "    print('File ID: {}'.format(created.get('id')))\n",
        "\n",
        "    return created\n",
        "\n",
        "\n",
        "extension_zip = \".zip\"\n",
        "\n",
        "zip_file = '/content/drive/My Drive/HackChennai/normal1' + extension_zip\n",
        "\n",
        "\n",
        "!zip -r $zip_file {'/content/drive/My Drive/HackChennai/normal1'} # FOLDERS TO SAVE INTO ZIP FILE\n",
        "\n",
        "auth.authenticate_user()\n",
        "drive_service = build('drive', 'v3')\n",
        "\n",
        "destination_name = zip_file\n",
        "path_to_file = zip_file\n",
        "save_file_to_drive(destination_name, path_to_file)\n"
      ],
      "execution_count": null,
      "outputs": []
    },
    {
      "cell_type": "code",
      "metadata": {
        "id": "VpzFz8QqJ060",
        "colab_type": "code",
        "colab": {}
      },
      "source": [
        "datagen = ImageDataGenerator(\n",
        "            rotation_range=40,\n",
        "            width_shift_range=0.2,\n",
        "            height_shift_range=0.2,\n",
        "            shear_range=0.2,\n",
        "             zoom_range=0.2,horizontal_flip=True,fill_mode='nearest')\n",
        "for i in range(int(len(imagePaths1))):    \n",
        "  img = load_img(imagePaths1[i])  \n",
        "  x = img_to_array(img)  \n",
        "  x = x.reshape((1,) + x.shape)  \n",
        "  j = 0\n",
        "  for batch in datagen.flow(x, batch_size=1,save_to_dir='/content/drive/My Drive/HackChennai/infected1', save_prefix='covid_train', save_format='jpeg'):\n",
        "    j += 1\n",
        "    if j > 20: #20  here is the number of times a single image will get augmented can be changed as per requirement\n",
        "      break  #save_to_dir consists of a folder I created in the dataset infected1 all the augmentted images will be saved in this folder."
      ],
      "execution_count": null,
      "outputs": []
    },
    {
      "cell_type": "code",
      "metadata": {
        "id": "gYopJWTOKZJd",
        "colab_type": "code",
        "colab": {}
      },
      "source": [
        "from google.colab import files\n",
        "from google.colab import auth\n",
        "from googleapiclient.http import MediaFileUpload\n",
        "from googleapiclient.discovery import build\n",
        "\n",
        "def save_file_to_drive(name, path):\n",
        "    file_metadata = {\n",
        "    'name': name,\n",
        "    'mimeType': 'application/octet-stream'\n",
        "    }\n",
        "\n",
        "    media = MediaFileUpload(path, \n",
        "                  mimetype='application/octet-stream',\n",
        "                  resumable=True)\n",
        "\n",
        "    created = drive_service.files().create(body=file_metadata, media_body=media, fields='id').execute()\n",
        "\n",
        "    print('File ID: {}'.format(created.get('id')))\n",
        "\n",
        "    return created\n",
        "\n",
        "\n",
        "extension_zip = \".zip\"\n",
        "\n",
        "zip_file = '/content/drive/My Drive/HackChennai/infected1' + extension_zip\n",
        "\n",
        "\n",
        "!zip -r $zip_file {'/content/drive/My Drive/HackChennai/infected1'} \n",
        "\n",
        "auth.authenticate_user()\n",
        "drive_service = build('drive', 'v3')\n",
        "\n",
        "destination_name = zip_file\n",
        "path_to_file = zip_file\n",
        "save_file_to_drive(destination_name, path_to_file)\n"
      ],
      "execution_count": null,
      "outputs": []
    }
  ]
}